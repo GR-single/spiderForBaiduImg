{
 "cells": [
  {
   "cell_type": "code",
   "execution_count": null,
   "metadata": {},
   "outputs": [],
   "source": [
    "import requests\n",
    "import bs4\n",
    "import re\n",
    "import os"
   ]
  },
  {
   "cell_type": "code",
   "execution_count": null,
   "metadata": {},
   "outputs": [],
   "source": [
    "url = 'http://image.baidu.com/search/index'\n",
    "keyword = '北科'\n",
    "keyname = 'USTB'\n",
    "wenjianjia = keyname+'_IMG'\n",
    "wenjianqianzhui = '/'+keyname+'_'\n",
    "p = {'tn':'baiduimage',\n",
    "'ps':1,\n",
    "'ct':201326592,\n",
    "'lm':-1,\n",
    "'cl':2,\n",
    "'nc':1,\n",
    "'ie':'utf-8',\n",
    "'word':keyword}\n",
    "r = requests.get(url,params=p,headers={'user-agent':'Edge'})\n",
    "filename = 'html.txt'\n",
    "r.encoding = r.apparent_encoding\n",
    "with open(filename,'w',encoding='utf-8') as f:\n",
    "    f.write(r.text)\n",
    "if not os.path.exists(wenjianjia):\n",
    "    os.mkdir(wenjianjia)"
   ]
  },
  {
   "cell_type": "code",
   "execution_count": null,
   "metadata": {
    "tags": []
   },
   "outputs": [],
   "source": [
    "s = bs4.BeautifulSoup(r.text,\"html.parser\")\n",
    "neirong = s.prettify()\n",
    "zhengze = r'\"objURL\":\"(.*?)\"'\n",
    "m = re.findall(zhengze,neirong)\n",
    "print(len(m))\n",
    "i = 1 \n",
    "for x in m:\n",
    "    print('[{}]downloading from:'.format(i),x)\n",
    "    try:\n",
    "        p = requests.get(x,headers={'user-agent':'Edge'},timeout=10)\n",
    "        if p.status_code != 200:\n",
    "            print('...failed')\n",
    "            continue\n",
    "        with open('./'+wenjianjia+wenjianqianzhui+str(i)+'.'+x.split('.')[-1],'wb') as f:\n",
    "            f.write(p.content)\n",
    "            i += 1\n",
    "        print('...success')\n",
    "    except:\n",
    "        print('...error')\n",
    "print('finished')"
   ]
  },
  {
   "cell_type": "code",
   "execution_count": null,
   "metadata": {},
   "outputs": [],
   "source": []
  }
 ],
 "metadata": {
  "language_info": {
   "codemirror_mode": {
    "name": "ipython",
    "version": 3
   },
   "file_extension": ".py",
   "mimetype": "text/x-python",
   "name": "python",
   "nbconvert_exporter": "python",
   "pygments_lexer": "ipython3",
   "version": "3.7.7-final"
  },
  "orig_nbformat": 2,
  "kernelspec": {
   "name": "python37764bitj41802099conda59f1401beb7a45bb93e071ac492593a0",
   "display_name": "Python 3.7.7 64-bit ('j_41802099': conda)"
  }
 },
 "nbformat": 4,
 "nbformat_minor": 2
}