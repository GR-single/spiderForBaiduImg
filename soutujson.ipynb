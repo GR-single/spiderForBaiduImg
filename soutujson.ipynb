{
 "cells": [
  {
   "cell_type": "code",
   "execution_count": 11,
   "metadata": {},
   "outputs": [],
   "source": [
    "import requests\n",
    "import re"
   ]
  },
  {
   "cell_type": "code",
   "execution_count": 12,
   "metadata": {
    "tags": []
   },
   "outputs": [],
   "source": [
    "url = 'http://image.baidu.com/search/acjson'\n",
    "keyword = ''\n",
    "p = {\n",
    "'tn':'resultjson_com',\n",
    "'ipn':'rj',\n",
    "'ct':'201326592',\n",
    "'is':'',\n",
    "'fp':'result',\n",
    "'queryWord':keyword,\n",
    "'cl':2,\n",
    "'lm':-1,\n",
    "'ie':'utf-8',\n",
    "'oe':'utf-8',\n",
    "'adpicid':'',\n",
    "'st':'',\n",
    "'z':'',\n",
    "'ic':'',\n",
    "'hd':'',\n",
    "'latest':'',\n",
    "'copyright':'',\n",
    "'word':keyword,\n",
    "'s':'',\n",
    "'se':'',\n",
    "'tab':'',\n",
    "'width':'',\n",
    "'height':'',\n",
    "'face':'',\n",
    "'istype':'',\n",
    "'qc':'',\n",
    "'nc':1,\n",
    "'fr':'',\n",
    "'expermode':'',\n",
    "'force':'', \n",
    "'pn':30,\n",
    "'rn':30\n",
    "}\n",
    "h = {\n",
    "'Accept':'text/plain, */*; q=0.01',\n",
    "'Accept-Encoding':'gzip, deflate',\n",
    "'Accept-Language':'zh-CN,zh;q=0.9,en;q=0.8,en-GB;q=0.7,en-US;q=0.6',\n",
    "'Connection':'keep-alive',\n",
    "'Cookie':'BDqhfp=%E5%8C%97%E4%BA%AC%E7%A7%91%E6%8A%80%E5%A4%A7%E5%AD%A6%26%26NaN-1undefined%26%260%26%261; BAIDUID=B2BB66C55AD79F8E4DA67945D14C06B1:FG=1; BIDUPSID=B2BB66C55AD79F8E0EB1A4FECA548E97; PSTM=1586763658; BDUSS=BOcDVHZ25lcU1-UWp0NWpKQTkwRE5nVlhlaTh5SkMyMTRVRkVHMlBXLUw1T0plRVFBQUFBJCQAAAAAAAAAAAEAAABto2ToAAAAAAAAAAAAAAAAAAAAAAAAAAAAAAAAAAAAAAAAAAAAAAAAAAAAAAAAAAAAAAAAAAAAAAAAAAAAAAAAAAAAAItXu16LV7teTH; BDORZ=B490B5EBF6F3CD402E515D22BCDA1598; delPer=0; H_PS_PSSID=31908_1428_31669_32139_31253_32045_32230_32258_26350; PSINO=5; BDRCVFR[dG2JNJb_ajR]=mk3SLVN4HKm; userFrom=www.baidu.com',\n",
    "'Host':'image.baidu.com',\n",
    "'Referer':'http://image.baidu.com/search/index?tn=baiduimage&ps=1&ct=201326592&lm=-1&cl=2&nc=1&ie=utf-8&word=%E5%8C%97%E4%BA%AC%E7%A7%91%E6%8A%80%E5%A4%A7%E5%AD%A6',\n",
    "'User-Agent':'Mozilla/5.0 (Windows NT 10.0; Win64; x64) AppleWebKit/537.36 (KHTML, like Gecko) Chrome/83.0.4103.116 Safari/537.36 Edg/83.0.478.61',\n",
    "'X-Requested-With':'XMLHttpRequest'\n",
    "}\n",
    "str_table = {\n",
    "    '_z2C$q': ':',\n",
    "    '_z&e3B': '.',\n",
    "    'AzdH3F': '/'\n",
    "}\n",
    "char_table = {\n",
    "    'w': 'a',\n",
    "    'k': 'b',\n",
    "    'v': 'c',\n",
    "    '1': 'd',\n",
    "    'j': 'e',\n",
    "    'u': 'f',\n",
    "    '2': 'g',\n",
    "    'i': 'h',\n",
    "    't': 'i',\n",
    "    '3': 'j',\n",
    "    'h': 'k',\n",
    "    's': 'l',\n",
    "    '4': 'm',\n",
    "    'g': 'n',\n",
    "    '5': 'o',\n",
    "    'r': 'p',\n",
    "    'q': 'q',\n",
    "    '6': 'r',\n",
    "    'f': 's',\n",
    "    'p': 't',\n",
    "    '7': 'u',\n",
    "    'e': 'v',\n",
    "    'o': 'w',\n",
    "    '8': '1',\n",
    "    'd': '2',\n",
    "    'n': '3',\n",
    "    '9': '4',\n",
    "    'c': '5',\n",
    "    'm': '6',\n",
    "    '0': '7',\n",
    "    'b': '8',\n",
    "    'l': '9',\n",
    "    'a': '0'\n",
    "}"
   ]
  },
  {
   "cell_type": "code",
   "execution_count": 13,
   "metadata": {
    "tags": []
   },
   "outputs": [
    {
     "output_type": "stream",
     "name": "stdout",
     "text": "http://dimg06.c-ctrip.com/images/tg/824/050/599/879c48d8ca3a42f2bf9798253174ccb8.jpg\n"
    }
   ],
   "source": [
    "char_table = {ord(key): ord(value) for key, value in char_table.items()}\n",
    "def jieMa(prestr):\n",
    "    realstr = ''\n",
    "    for key, value in str_table.items():\n",
    "        prestr = prestr.replace(key, value)\n",
    "    realstr=prestr.translate(char_table)\n",
    "    return realstr\n",
    "\n",
    "realstr = jieMa('ippr_z2C$qAzdH3FAzdH3F1t42am_z&e3Bv-vp6tr_z&e3Bv54AzdH3Ft4w2jfAzdH3Fp2AzdH3Fbd9AzdH3FacaAzdH3FcllAzdH3Fb0lv9b1bvwnw9dudkul0lbdcn809vvkb_z&e3B3r2')\n",
    "print(realstr)"
   ]
  },
  {
   "cell_type": "code",
   "execution_count": 14,
   "metadata": {
    "tags": []
   },
   "outputs": [
    {
     "output_type": "stream",
     "name": "stdout",
     "text": "90\n"
    }
   ],
   "source": [
    "page = 3\n",
    "goalNum = 91\n",
    "urlList = []\n",
    "while (page-2)*30 < goalNum:\n",
    "    p['pn'] = page*30\n",
    "    r = requests.get(url,params=p)\n",
    "    data = r.json()['data']\n",
    "    for info in data:\n",
    "        try:\n",
    "            jiBenXinXi = []\n",
    "            jiBenXinXi.append(info['type'])\n",
    "            jiBenXinXi.append(jieMa(info['objURL']))\n",
    "            urlList.append(jiBenXinXi)\n",
    "        except:\n",
    "            pass\n",
    "    page += 1\n",
    "print(len(urlList))"
   ]
  },
  {
   "cell_type": "code",
   "execution_count": 15,
   "metadata": {
    "tags": []
   },
   "outputs": [
    {
     "output_type": "stream",
     "name": "stdout",
     "text": "403 http://img.tupianzj.com/uploads/allimg/161228/9-16122R23913.jpg\n200 http://t1.55156.com/uploads/tu/201512/neiyimeinv/wasjm5g1mur.jpg\n200 http://www.jnylxw.com/uploadfile/2017/0217/20170217123847830.jpg\n200 http://www.100dangong.com/images/nzsxo4zonm3dcobomnxa/wap/201503/W020150313209350993307.jpg\n403 http://pic.7y7.com/20138/2013080360922241_600x0.jpg\n200 http://www.chef-life.cn/img.php?www.zhideedu.com/UploadFiles/img_3_2294589060_76508031_26.jpg\n403 http://t7.baidu.com/it/u=1761335458,2852607288&fm=193\n403 http://t7.baidu.com/it/u=32906811,3291753624&fm=193\n403 http://t9.baidu.com/it/u=4012019665,2448076985&fm=193\n403 http://t9.baidu.com/it/u=2634472629,1178483081&fm=193\n403 http://t7.baidu.com/it/u=2220302667,2424791526&fm=193\n403 http://t7.baidu.com/it/u=1170855998,1029272982&fm=193\n403 http://t7.baidu.com/it/u=4064794242,2184646881&fm=193\n403 http://t8.baidu.com/it/u=2268188456,1653541369&fm=193\n403 http://t8.baidu.com/it/u=761857146,1677655279&fm=193\n403 http://t7.baidu.com/it/u=2059488880,1729332297&fm=193\n403 http://t9.baidu.com/it/u=1452689122,3685952522&fm=193\n200 http://www.100dangong.com/images/nzsxo4zonm3dcobomnxa/wap/201503/W020150313209350993307.jpg\n200 http://www.mayoor.net.cn/images/nfwwoltuovygsylopjvc4y3pnu/uploads/allimg/140829/1-140R9110T1-50.jpg\n403 http://hexiup.2344.com/nqvaoZtoY6GlxJuvYKfWmZlkxaJhpc-bna-SmqKfYm/mhmdR21m2JobLcnmqXnKtjf37FoZyarY6nfIyCqHx6eaOPuIaVhX2rbbV6rXma25-sb5JsrHyZg4SJjZmVoZR4aqGypJSHoYea14WIdaCfYoGgq4abmpmKY2Vyp6qXmaSqdNC\nfinished\n"
    }
   ],
   "source": [
    "i = 53\n",
    "zhuangTaiMa = 200\n",
    "for urlInfo in urlList:\n",
    "    try:\n",
    "        pr = requests.get(urlInfo[1],timeout=10)\n",
    "        zhuangTaiMa = pr.status_code\n",
    "        pr.raise_for_status()\n",
    "        path = './USTB_IMG/'\n",
    "        filename = 'U_'+str(i)+'.'+urlInfo[0]\n",
    "        with open(path+filename,'wb') as f:\n",
    "            f.write(pr.content)\n",
    "            i += 1\n",
    "    except:\n",
    "        print(zhuangTaiMa,urlInfo[1])\n",
    "        pass\n",
    "print('finished') "
   ]
  },
  {
   "cell_type": "code",
   "execution_count": null,
   "metadata": {},
   "outputs": [],
   "source": []
  }
 ],
 "metadata": {
  "language_info": {
   "codemirror_mode": {
    "name": "ipython",
    "version": 3
   },
   "file_extension": ".py",
   "mimetype": "text/x-python",
   "name": "python",
   "nbconvert_exporter": "python",
   "pygments_lexer": "ipython3",
   "version": "3.7.7-final"
  },
  "orig_nbformat": 2,
  "kernelspec": {
   "name": "python37764bitj41802099conda59f1401beb7a45bb93e071ac492593a0",
   "display_name": "Python 3.7.7 64-bit ('j_41802099': conda)"
  }
 },
 "nbformat": 4,
 "nbformat_minor": 2
}